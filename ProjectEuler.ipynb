{
 "cells": [
  {
   "cell_type": "markdown",
   "metadata": {},
   "source": [
    "## Problem 1"
   ]
  },
  {
   "cell_type": "code",
   "execution_count": 1,
   "metadata": {},
   "outputs": [],
   "source": [
    "let problem001 numLessThan = \n",
    "    let mult3 = Set.ofSeq {0 .. 3 .. numLessThan - 1}\n",
    "    let mult5 = Set.ofSeq {0 .. 5 .. numLessThan - 1}\n",
    "    (mult3, mult5) ||> Set.union |> Set.toSeq |> Seq.sum"
   ]
  },
  {
   "cell_type": "code",
   "execution_count": 2,
   "metadata": {},
   "outputs": [
    {
     "data": {
      "text/plain": [
       "233168"
      ]
     },
     "execution_count": 2,
     "metadata": {},
     "output_type": "execute_result"
    }
   ],
   "source": [
    "problem001 1000"
   ]
  },
  {
   "cell_type": "markdown",
   "metadata": {},
   "source": [
    "## Problem 2"
   ]
  },
  {
   "cell_type": "code",
   "execution_count": 3,
   "metadata": {},
   "outputs": [],
   "source": [
    "let fibonacci = \n",
    "    (1I, 1I) |> Seq.unfold (fun (a, b) -> Some (b, (b, a + b)))"
   ]
  },
  {
   "cell_type": "code",
   "execution_count": 4,
   "metadata": {},
   "outputs": [
    {
     "data": {
      "text/plain": [
       "seq [1; 2; 3; 5]"
      ]
     },
     "execution_count": 4,
     "metadata": {},
     "output_type": "execute_result"
    }
   ],
   "source": [
    "fibonacci |> Seq.take 4"
   ]
  },
  {
   "cell_type": "code",
   "execution_count": 5,
   "metadata": {},
   "outputs": [],
   "source": [
    "let problem002 =\n",
    "    fibonacci \n",
    "    |> Seq.mapi (fun i x -> if i % 3 = 1 then Some(x) else None)\n",
    "    |> Seq.choose id\n",
    "    |> Seq.takeWhile (fun x -> x <= 4000000I)\n",
    "    |> Seq.sum"
   ]
  },
  {
   "cell_type": "code",
   "execution_count": 6,
   "metadata": {},
   "outputs": [
    {
     "data": {
      "text/plain": [
       "4613732"
      ]
     },
     "execution_count": 6,
     "metadata": {},
     "output_type": "execute_result"
    }
   ],
   "source": [
    "problem002"
   ]
  },
  {
   "cell_type": "markdown",
   "metadata": {},
   "source": [
    "## Problem 3"
   ]
  },
  {
   "cell_type": "code",
   "execution_count": 7,
   "metadata": {},
   "outputs": [],
   "source": [
    "let pseudoPrimes =\n",
    "    seq {\n",
    "        let mutable x = 5I\n",
    "        yield! [2I; 3I; 5I]\n",
    "        while true do\n",
    "            x <- x + 2I\n",
    "            yield x\n",
    "            x <- x + 4I\n",
    "            yield x\n",
    "    }"
   ]
  },
  {
   "cell_type": "code",
   "execution_count": 8,
   "metadata": {},
   "outputs": [],
   "source": [
    "let factors (n: bigint) = \n",
    "    let rec loop c acc ps =\n",
    "        let p = Seq.head ps\n",
    "        if p * p > c then\n",
    "            c::acc\n",
    "        elif c % p = 0I then\n",
    "            loop (c/p) (p::acc) ps\n",
    "        else\n",
    "            loop c acc (Seq.tail ps)\n",
    "    loop n List.empty pseudoPrimes"
   ]
  },
  {
   "cell_type": "code",
   "execution_count": 9,
   "metadata": {},
   "outputs": [],
   "source": [
    "let frequencies xs =\n",
    "    xs\n",
    "    |> Seq.sort\n",
    "    |> Seq.groupBy id\n",
    "    |> Seq.map (fun (key, xs) -> (key, Seq.length xs))    "
   ]
  },
  {
   "cell_type": "code",
   "execution_count": 10,
   "metadata": {},
   "outputs": [],
   "source": [
    "let factorInteger = factors >> frequencies"
   ]
  },
  {
   "cell_type": "code",
   "execution_count": 11,
   "metadata": {},
   "outputs": [],
   "source": [
    "let prob003 = \n",
    "    factorInteger >> Seq.last >> fst"
   ]
  },
  {
   "cell_type": "code",
   "execution_count": 12,
   "metadata": {},
   "outputs": [
    {
     "data": {
      "text/plain": [
       "6857"
      ]
     },
     "execution_count": 12,
     "metadata": {},
     "output_type": "execute_result"
    }
   ],
   "source": [
    "prob003 600851475143I"
   ]
  },
  {
   "cell_type": "markdown",
   "metadata": {},
   "source": [
    "## Problem 4"
   ]
  },
  {
   "cell_type": "code",
   "execution_count": 13,
   "metadata": {},
   "outputs": [],
   "source": [
    "let isPalindrome n = \n",
    "    let s = string n\n",
    "    let reversed = (s |> Seq.rev |> System.String.Concat)\n",
    "    s = reversed"
   ]
  },
  {
   "cell_type": "code",
   "execution_count": 14,
   "metadata": {},
   "outputs": [],
   "source": [
    "let prob004 = \n",
    "    let xs = seq { \n",
    "        for x in seq [999..-1..900] do\n",
    "            for y in seq [x-1..-1..900] do\n",
    "                if isPalindrome (x * y) then\n",
    "                    yield x * y\n",
    "                    }\n",
    "    xs |> Seq.max "
   ]
  },
  {
   "cell_type": "code",
   "execution_count": 15,
   "metadata": {},
   "outputs": [
    {
     "data": {
      "text/plain": [
       "906609"
      ]
     },
     "execution_count": 15,
     "metadata": {},
     "output_type": "execute_result"
    }
   ],
   "source": [
    "prob004"
   ]
  },
  {
   "cell_type": "markdown",
   "metadata": {},
   "source": [
    "## Problem 5"
   ]
  }
 ],
 "metadata": {
  "kernelspec": {
   "display_name": "F#",
   "language": "fsharp",
   "name": "ifsharp"
  },
  "language": "fsharp",
  "language_info": {
   "codemirror_mode": "",
   "file_extension": ".fs",
   "mimetype": "text/x-fsharp",
   "name": "fsharp",
   "nbconvert_exporter": "",
   "pygments_lexer": "",
   "version": "4.3.1.0"
  }
 },
 "nbformat": 4,
 "nbformat_minor": 2
}
